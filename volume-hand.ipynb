{
 "cells": [
  {
   "cell_type": "code",
   "execution_count": 10,
   "metadata": {},
   "outputs": [],
   "source": [
    "import cv2\n",
    "import mediapipe as mp\n",
    "from math import hypot\n",
    "from ctypes import cast, POINTER\n",
    "from comtypes import CLSCTX_ALL\n",
    "from pycaw.pycaw import AudioUtilities, IAudioEndpointVolume\n",
    "import numpy as np"
   ]
  },
  {
   "cell_type": "code",
   "execution_count": 11,
   "metadata": {},
   "outputs": [],
   "source": [
    "# Access Camera\n",
    "cap = cv2.VideoCapture(0)\n",
    "\n",
    "# Detecting, Initializing and configuring the hands\n",
    "\n",
    "mp_hands = mp.solutions.hands\n",
    "hands = mp_hands.Hands()\n",
    "mp_draw = mp.solutions.drawing_utils"
   ]
  },
  {
   "cell_type": "code",
   "execution_count": 12,
   "metadata": {},
   "outputs": [],
   "source": [
    "# Accessing Speaker using Pycaw\n",
    "\n",
    "devices = AudioUtilities.GetSpeakers()\n",
    "interface = devices.Activate(IAudioEndpointVolume._iid_, CLSCTX_ALL, None)\n",
    "volume = cast(interface,POINTER(IAudioEndpointVolume))"
   ]
  },
  {
   "cell_type": "code",
   "execution_count": 13,
   "metadata": {},
   "outputs": [],
   "source": [
    "# Finding volume range\n",
    "\n",
    "vol_min, vol_max = volume.GetVolumeRange()[:2]"
   ]
  },
  {
   "cell_type": "code",
   "execution_count": null,
   "metadata": {},
   "outputs": [],
   "source": [
    "# Capture an Image from the Camera\n",
    "\n",
    "while True:\n",
    "    success, img = cap.read()\n",
    "    img_RGB = cv2.cvtColor(img, cv2.COLOR_BGR2RGB)\n",
    "    results = hands.process(img_RGB)\n",
    "\n",
    "    # Checking for multiple hands\n",
    "    lm_list = []\n",
    "    if results.multi_hand_landmarks:\n",
    "        for hand_land_mark in results.multi_hand_landmarks:\n",
    "            for id,lm in enumerate(hand_land_mark.landmark):\n",
    "                h,w,_ = img.shape\n",
    "                cx, cy = int(lm.x * w), int(lm.y * h)\n",
    "                lm_list.append([id,cx,cy])\n",
    "            mp_draw.draw_landmarks(img, hand_land_mark, mp_hands.HAND_CONNECTIONS)\n",
    "    \n",
    "    if lm_list != []:\n",
    "        x1, y1 = lm_list[4][1], lm_list[4][2]\n",
    "        x2, y2 = lm_list[8][1], lm_list[8][2]\n",
    "\n",
    "        # Drawing a circle at the tip of the index finger and thumb\n",
    "        cv2.circle(img, (x1,y1), 15, (255,0,0),cv2.FILLED)\n",
    "        cv2.circle(img, (x2,y2), 15, (255,0,0),cv2.FILLED)\n",
    "        \n",
    "        # Drawing a line between the fingertips\n",
    "        cv2.line(img, (x1,y1), (x2,y2), (0,255,0), 3)\n",
    "        # Calculating the distance between the index finger and thumb\n",
    "        length = hypot(x2-x1, y2-y1)\n",
    "\n",
    "        # Converting finger range to volume range\n",
    "\n",
    "        vol = np.interp(length, [15,220], [vol_min, vol_max])\n",
    "        print(vol,length)\n",
    "\n",
    "        # Setting the volume\n",
    "        volume.SetMasterVolumeLevel(vol, None)\n",
    "\n",
    "    cv2.imshow('img', img)\n",
    "    if cv2.waitKey(1) & 0xFF == ord('q'):\n",
    "        break\n"
   ]
  }
 ],
 "metadata": {
  "kernelspec": {
   "display_name": "Python 3.10.5 64-bit (windows store)",
   "language": "python",
   "name": "python3"
  },
  "language_info": {
   "codemirror_mode": {
    "name": "ipython",
    "version": 3
   },
   "file_extension": ".py",
   "mimetype": "text/x-python",
   "name": "python",
   "nbconvert_exporter": "python",
   "pygments_lexer": "ipython3",
   "version": "3.10.5"
  },
  "orig_nbformat": 4,
  "vscode": {
   "interpreter": {
    "hash": "3b7e9cb8e453d6cda0fe8c8dd13f891a1f09162f0e7c66ffeae7751a7aecf00d"
   }
  }
 },
 "nbformat": 4,
 "nbformat_minor": 2
}
