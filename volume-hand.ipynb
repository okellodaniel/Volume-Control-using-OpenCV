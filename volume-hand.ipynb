{
 "cells": [
  {
   "cell_type": "code",
   "execution_count": 2,
   "metadata": {},
   "outputs": [
    {
     "ename": "ImportError",
     "evalue": "cannot import name 'AudioUtils' from 'pycaw.pycaw' (C:\\Users\\User\\AppData\\Local\\Packages\\PythonSoftwareFoundation.Python.3.10_qbz5n2kfra8p0\\LocalCache\\local-packages\\Python310\\site-packages\\pycaw\\pycaw.py)",
     "output_type": "error",
     "traceback": [
      "\u001b[1;31m---------------------------------------------------------------------------\u001b[0m",
      "\u001b[1;31mImportError\u001b[0m                               Traceback (most recent call last)",
      "\u001b[1;32mc:\\Users\\User\\Documents\\CIT\\Machine Learning\\volume-hand.ipynb Cell 1'\u001b[0m in \u001b[0;36m<cell line: 6>\u001b[1;34m()\u001b[0m\n\u001b[0;32m      <a href='vscode-notebook-cell:/c%3A/Users/User/Documents/CIT/Machine%20Learning/volume-hand.ipynb#ch0000000?line=3'>4</a>\u001b[0m \u001b[39mfrom\u001b[39;00m \u001b[39mctypes\u001b[39;00m \u001b[39mimport\u001b[39;00m cast, POINTER\n\u001b[0;32m      <a href='vscode-notebook-cell:/c%3A/Users/User/Documents/CIT/Machine%20Learning/volume-hand.ipynb#ch0000000?line=4'>5</a>\u001b[0m \u001b[39mfrom\u001b[39;00m \u001b[39mcomtypes\u001b[39;00m \u001b[39mimport\u001b[39;00m CLSCTX_ALL\n\u001b[1;32m----> <a href='vscode-notebook-cell:/c%3A/Users/User/Documents/CIT/Machine%20Learning/volume-hand.ipynb#ch0000000?line=5'>6</a>\u001b[0m \u001b[39mfrom\u001b[39;00m \u001b[39mpycaw\u001b[39;00m\u001b[39m.\u001b[39;00m\u001b[39mpycaw\u001b[39;00m \u001b[39mimport\u001b[39;00m AudioUtils, IAudioEndpointVolume\n\u001b[0;32m      <a href='vscode-notebook-cell:/c%3A/Users/User/Documents/CIT/Machine%20Learning/volume-hand.ipynb#ch0000000?line=6'>7</a>\u001b[0m \u001b[39mimport\u001b[39;00m \u001b[39mnumpy\u001b[39;00m \u001b[39mas\u001b[39;00m \u001b[39mnp\u001b[39;00m\n",
      "\u001b[1;31mImportError\u001b[0m: cannot import name 'AudioUtils' from 'pycaw.pycaw' (C:\\Users\\User\\AppData\\Local\\Packages\\PythonSoftwareFoundation.Python.3.10_qbz5n2kfra8p0\\LocalCache\\local-packages\\Python310\\site-packages\\pycaw\\pycaw.py)"
     ]
    }
   ],
   "source": [
    "import cv2\n",
    "import mediapipe as mp\n",
    "from math import hypot\n",
    "from ctypes import cast, POINTER\n",
    "from comtypes import CLSCTX_ALL\n",
    "from pycaw.pycaw import AudioUtils, IAudioEndpointVolume\n",
    "import numpy as np"
   ]
  },
  {
   "cell_type": "code",
   "execution_count": 3,
   "metadata": {},
   "outputs": [
    {
     "ename": "AttributeError",
     "evalue": "module 'mediapipe.python.solutions' has no attribute 'draw_utils'",
     "output_type": "error",
     "traceback": [
      "\u001b[1;31m---------------------------------------------------------------------------\u001b[0m",
      "\u001b[1;31mAttributeError\u001b[0m                            Traceback (most recent call last)",
      "\u001b[1;32mc:\\Users\\User\\Documents\\CIT\\Machine Learning\\volume-hand.ipynb Cell 2'\u001b[0m in \u001b[0;36m<cell line: 8>\u001b[1;34m()\u001b[0m\n\u001b[0;32m      <a href='vscode-notebook-cell:/c%3A/Users/User/Documents/CIT/Machine%20Learning/volume-hand.ipynb#ch0000001?line=5'>6</a>\u001b[0m mpHands \u001b[39m=\u001b[39m mp\u001b[39m.\u001b[39msolutions\u001b[39m.\u001b[39mhands\n\u001b[0;32m      <a href='vscode-notebook-cell:/c%3A/Users/User/Documents/CIT/Machine%20Learning/volume-hand.ipynb#ch0000001?line=6'>7</a>\u001b[0m hands \u001b[39m=\u001b[39m mpHands\u001b[39m.\u001b[39mHands()\n\u001b[1;32m----> <a href='vscode-notebook-cell:/c%3A/Users/User/Documents/CIT/Machine%20Learning/volume-hand.ipynb#ch0000001?line=7'>8</a>\u001b[0m mpDraw \u001b[39m=\u001b[39m mp\u001b[39m.\u001b[39;49msolutions\u001b[39m.\u001b[39;49mdraw_utils\n",
      "\u001b[1;31mAttributeError\u001b[0m: module 'mediapipe.python.solutions' has no attribute 'draw_utils'"
     ]
    }
   ],
   "source": [
    "# Access Camera\n",
    "cap = cv2.VideoCapture(0)\n",
    "\n",
    "# Detecting, Initializing and configuring the hands\n",
    "\n",
    "mpHands = mp.solutions.hands\n",
    "hands = mpHands.Hands()\n",
    "mpDraw = mp.solutions.draw_utils"
   ]
  },
  {
   "cell_type": "code",
   "execution_count": null,
   "metadata": {},
   "outputs": [],
   "source": [
    "# Accessing Speaker using Pycaw\n",
    "\n",
    "devices = AudioUtils.GetSpeakers()\n",
    "interface = devices.Activate(IAudioEndpointVolume._iid_, CLSCTX_ALL, None)\n",
    "volume = cast(interface,POINTER(IAudioEndpointVolume))"
   ]
  },
  {
   "cell_type": "code",
   "execution_count": null,
   "metadata": {},
   "outputs": [],
   "source": [
    "# Finding volume range\n",
    "\n",
    "volMin, volMax = volume.GetVolumeLevelRange()[:2]"
   ]
  },
  {
   "cell_type": "code",
   "execution_count": null,
   "metadata": {},
   "outputs": [],
   "source": [
    "# Capture an Image from the Camera\n",
    "\n",
    "while True:\n",
    "    success, img = cap.read()\n",
    "    img_RGB = cv2.cvtColor(img, cv2.COLOR_BGR2RGB)\n",
    "    results = hands.process(img_RGB)\n",
    "\n",
    "# Checking for multiple hands\n",
    "\n",
    "lm_list = []\n",
    "if results.multi_hand_landmarks:"
   ]
  }
 ],
 "metadata": {
  "kernelspec": {
   "display_name": "Python 3.10.5 64-bit (windows store)",
   "language": "python",
   "name": "python3"
  },
  "language_info": {
   "codemirror_mode": {
    "name": "ipython",
    "version": 3
   },
   "file_extension": ".py",
   "mimetype": "text/x-python",
   "name": "python",
   "nbconvert_exporter": "python",
   "pygments_lexer": "ipython3",
   "version": "3.10.5"
  },
  "orig_nbformat": 4,
  "vscode": {
   "interpreter": {
    "hash": "3b7e9cb8e453d6cda0fe8c8dd13f891a1f09162f0e7c66ffeae7751a7aecf00d"
   }
  }
 },
 "nbformat": 4,
 "nbformat_minor": 2
}
